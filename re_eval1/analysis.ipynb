{
 "cells": [
  {
   "cell_type": "code",
   "execution_count": 1,
   "id": "e452afee",
   "metadata": {},
   "outputs": [],
   "source": [
    "import pandas as pd\n",
    "import numpy as np\n",
    "import seaborn as sns\n",
    "import matplotlib.pyplot as plt\n",
    "import sys\n",
    "import os\n",
    "sys.path.append(os.path.abspath(os.path.join(os.getcwd(), '..')))\n",
    "from analysis.utility import (\n",
    "    plot_overall_rating_correlation,\n",
    "    visualize_overall_ratings_summary\n",
    ")"
   ]
  },
  {
   "cell_type": "code",
   "execution_count": 2,
   "id": "b9b39852",
   "metadata": {},
   "outputs": [],
   "source": [
    "GPT_OVER_ALL_RATINGS_FILE = \"/playpen-ssd/wokwen/projects/chatbot_eval/re_eval1/gpt/ratings/overall_ratings.csv\"\n",
    "LLAMA_OVER_ALL_RATINGS_FILE = \"/playpen-ssd/wokwen/projects/chatbot_eval/re_eval1/llama/ratings/overall_ratings.csv\"\n",
    "df_OR_gpt = pd.read_csv(GPT_OVER_ALL_RATINGS_FILE)\n",
    "df_OR_llama = pd.read_csv(LLAMA_OVER_ALL_RATINGS_FILE)\n",
    "\n",
    "# fill language\n",
    "df_OR_gpt[\"Language\"] = \"\"\n",
    "df_OR_llama[\"Language\"] = \"\""
   ]
  },
  {
   "cell_type": "markdown",
   "id": "392feba1",
   "metadata": {},
   "source": [
    "### GPT"
   ]
  },
  {
   "cell_type": "code",
   "execution_count": 3,
   "id": "13c9b3a3",
   "metadata": {},
   "outputs": [
    {
     "name": "stdout",
     "output_type": "stream",
     "text": [
      "       Convsation_Id  User_Rating  Observer_Rating  Self_Rating\n",
      "count      33.000000    33.000000        33.000000    33.000000\n",
      "mean      237.545455     5.696970         6.075758     6.196970\n",
      "std       186.666998     2.746985         2.194173     2.189961\n",
      "min        21.000000     1.000000         2.000000     2.000000\n",
      "25%        66.000000     3.000000         4.500000     4.500000\n",
      "50%       151.000000     5.000000         6.500000     6.500000\n",
      "75%       399.000000     9.000000         7.500000     8.500000\n",
      "max       504.000000    10.000000         9.000000     9.000000\n"
     ]
    }
   ],
   "source": [
    "visualize_overall_ratings_summary(df_OR_gpt)"
   ]
  },
  {
   "cell_type": "code",
   "execution_count": 4,
   "id": "88f4ea5b",
   "metadata": {},
   "outputs": [
    {
     "data": {
      "text/plain": [
       "np.float64(5.0)"
      ]
     },
     "execution_count": 4,
     "metadata": {},
     "output_type": "execute_result"
    }
   ],
   "source": [
    "df_OR_gpt['User_Rating'].quantile(0.55)"
   ]
  },
  {
   "cell_type": "markdown",
   "id": "ba39a1be",
   "metadata": {},
   "source": [
    "### LLAMA"
   ]
  },
  {
   "cell_type": "code",
   "execution_count": 5,
   "id": "285e5c6d",
   "metadata": {},
   "outputs": [
    {
     "name": "stdout",
     "output_type": "stream",
     "text": [
      "       Convsation_Id  User_Rating  Observer_Rating  Self_Rating\n",
      "count      33.000000    33.000000        33.000000    33.000000\n",
      "mean      237.545455     8.196970         7.860606     7.869697\n",
      "std       186.666998     0.839451         0.649971     0.749368\n",
      "min        21.000000     4.000000         6.000000     6.000000\n",
      "25%        66.000000     8.000000         7.500000     7.500000\n",
      "50%       151.000000     8.200000         8.000000     8.000000\n",
      "75%       399.000000     8.500000         8.300000     8.500000\n",
      "max       504.000000     9.000000         8.500000     8.500000\n"
     ]
    }
   ],
   "source": [
    "visualize_overall_ratings_summary(df_OR_llama)"
   ]
  },
  {
   "cell_type": "code",
   "execution_count": null,
   "id": "e76a46c2",
   "metadata": {},
   "outputs": [
    {
     "data": {
      "text/plain": [
       "np.float64(6.3)"
      ]
     },
     "execution_count": 10,
     "metadata": {},
     "output_type": "execute_result"
    }
   ],
   "source": [
    "df_OR_llama['Observer_Rating'].quantile(0.05)"
   ]
  },
  {
   "cell_type": "code",
   "execution_count": 18,
   "id": "8d8ee7bf",
   "metadata": {},
   "outputs": [
    {
     "name": "stdout",
     "output_type": "stream",
     "text": [
      "3 ratings (9.09%) are below the 5th-percentile cut-off of 7.200.\n"
     ]
    }
   ],
   "source": [
    "cutoff = df_OR_llama['Observer_Rating'].quantile(0.1)\n",
    "n_below = (df_OR_llama['Observer_Rating'] < cutoff).sum()\n",
    "print(f\"{n_below} ratings ({n_below/len(df_OR_llama):.2%}) are below the 5th-percentile cut-off of {cutoff:.3f}.\")\n"
   ]
  },
  {
   "cell_type": "code",
   "execution_count": null,
   "id": "85a77868",
   "metadata": {},
   "outputs": [],
   "source": []
  }
 ],
 "metadata": {
  "kernelspec": {
   "display_name": "venv",
   "language": "python",
   "name": "python3"
  },
  "language_info": {
   "codemirror_mode": {
    "name": "ipython",
    "version": 3
   },
   "file_extension": ".py",
   "mimetype": "text/x-python",
   "name": "python",
   "nbconvert_exporter": "python",
   "pygments_lexer": "ipython3",
   "version": "3.10.15"
  }
 },
 "nbformat": 4,
 "nbformat_minor": 5
}
